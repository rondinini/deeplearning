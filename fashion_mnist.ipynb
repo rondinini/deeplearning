{
 "cells": [
  {
   "cell_type": "code",
   "execution_count": 1,
   "metadata": {},
   "outputs": [],
   "source": [
    "%matplotlib inline\n",
    "import os\n",
    "from pathlib import Path\n",
    "from logging import getLogger\n",
    "import tensorflow as tf\n",
    "import matplotlib.pyplot as plt\n",
    "import numpy as np\n",
    "from sklearn.metrics import classification_report, confusion_matrix\n",
    "\n",
    "from src.models.utils import callbacks\n",
    "from src.preprocessing.computer_vision import scaling, reshaping, resize, augmentation\n",
    "from src.projects.fashion_mnist.architecture import CnnFCNNetwork"
   ]
  },
  {
   "cell_type": "code",
   "execution_count": 2,
   "metadata": {},
   "outputs": [],
   "source": [
    "_log = getLogger()\n",
    "model_save_fp = Path(os.getcwd()) / Path('trained_models') / Path('fashion_mnist')"
   ]
  },
  {
   "cell_type": "markdown",
   "metadata": {},
   "source": [
    "Loading data from Keras"
   ]
  },
  {
   "cell_type": "code",
   "execution_count": 3,
   "metadata": {},
   "outputs": [],
   "source": [
    "(x_train, y_train), (x_test, y_test) = tf.keras.datasets.fashion_mnist.load_data()"
   ]
  },
  {
   "cell_type": "markdown",
   "metadata": {},
   "source": [
    "Ingesting data with the Tensorflow Dataset API and splitting between training and validation"
   ]
  },
  {
   "cell_type": "code",
   "execution_count": 4,
   "metadata": {},
   "outputs": [
    {
     "name": "stdout",
     "output_type": "stream",
     "text": [
      "Metal device set to: Apple M1 Max\n",
      "\n",
      "systemMemory: 32.00 GB\n",
      "maxCacheSize: 10.67 GB\n",
      "\n"
     ]
    },
    {
     "name": "stderr",
     "output_type": "stream",
     "text": [
      "2022-12-01 18:42:11.947103: I tensorflow/core/common_runtime/pluggable_device/pluggable_device_factory.cc:306] Could not identify NUMA node of platform GPU ID 0, defaulting to 0. Your kernel may not have been built with NUMA support.\n",
      "2022-12-01 18:42:11.947235: I tensorflow/core/common_runtime/pluggable_device/pluggable_device_factory.cc:272] Created TensorFlow device (/job:localhost/replica:0/task:0/device:GPU:0 with 0 MB memory) -> physical PluggableDevice (device: 0, name: METAL, pci bus id: <undefined>)\n"
     ]
    }
   ],
   "source": [
    "full_dataset = tf.data.Dataset.from_tensor_slices((x_train, y_train))\n",
    "training_dataset = full_dataset.take(50000)\n",
    "validation_dataset = full_dataset.skip(50000)\n",
    "test_dataset = tf.data.Dataset.from_tensor_slices((x_test, y_test))"
   ]
  },
  {
   "cell_type": "markdown",
   "metadata": {},
   "source": [
    "Preprocessing data by scaling, rotating and reshaping the input images"
   ]
  },
  {
   "cell_type": "code",
   "execution_count": 5,
   "metadata": {},
   "outputs": [],
   "source": [
    "def preprocess(dataset):\n",
    "    dataset = dataset.map(lambda x, y: (scaling(x), y), num_parallel_calls=tf.data.AUTOTUNE)\n",
    "    dataset = dataset.map(lambda x, y: (reshaping(x, 28), y), num_parallel_calls=tf.data.AUTOTUNE)\n",
    "    dataset = dataset.map(lambda x, y: (augmentation(x), y), num_parallel_calls=tf.data.AUTOTUNE)\n",
    "    return dataset"
   ]
  },
  {
   "cell_type": "code",
   "execution_count": 6,
   "metadata": {},
   "outputs": [],
   "source": [
    "training_dataset = preprocess(training_dataset)\n",
    "validation_dataset = preprocess(validation_dataset)"
   ]
  },
  {
   "cell_type": "markdown",
   "metadata": {},
   "source": [
    "Batching and shuffling"
   ]
  },
  {
   "cell_type": "code",
   "execution_count": 7,
   "metadata": {},
   "outputs": [],
   "source": [
    "batch_size = 64\n",
    "training_dataset = training_dataset.shuffle(10000, reshuffle_each_iteration=True)\n",
    "training_dataset = training_dataset.repeat(10)\n",
    "training_dataset = training_dataset.batch(batch_size)\n",
    "training_dataset = training_dataset.prefetch(tf.data.AUTOTUNE)\n",
    "\n",
    "validation_dataset = validation_dataset.batch(batch_size).prefetch(tf.data.AUTOTUNE)"
   ]
  },
  {
   "cell_type": "markdown",
   "metadata": {},
   "source": [
    "Model loading"
   ]
  },
  {
   "cell_type": "code",
   "execution_count": 9,
   "metadata": {},
   "outputs": [
    {
     "name": "stdout",
     "output_type": "stream",
     "text": [
      "Model: \"CNNFCNNetwork\"\n",
      "_________________________________________________________________\n",
      " Layer (type)                Output Shape              Param #   \n",
      "=================================================================\n",
      " input_1 (InputLayer)        [(None, None, None, 1)]   0         \n",
      "                                                                 \n",
      " conv2d (Conv2D)             (None, None, None, 64)    1664      \n",
      "                                                                 \n",
      " batch_normalization (BatchN  (None, None, None, 64)   256       \n",
      " ormalization)                                                   \n",
      "                                                                 \n",
      " activation (Activation)     (None, None, None, 64)    0         \n",
      "                                                                 \n",
      " dropout (Dropout)           (None, None, None, 64)    0         \n",
      "                                                                 \n",
      " conv2d_1 (Conv2D)           (None, None, None, 128)   73856     \n",
      "                                                                 \n",
      " batch_normalization_1 (Batc  (None, None, None, 128)  512       \n",
      " hNormalization)                                                 \n",
      "                                                                 \n",
      " activation_1 (Activation)   (None, None, None, 128)   0         \n",
      "                                                                 \n",
      " dropout_1 (Dropout)         (None, None, None, 128)   0         \n",
      "                                                                 \n",
      " conv2d_2 (Conv2D)           (None, None, None, 256)   295168    \n",
      "                                                                 \n",
      " batch_normalization_2 (Batc  (None, None, None, 256)  1024      \n",
      " hNormalization)                                                 \n",
      "                                                                 \n",
      " activation_2 (Activation)   (None, None, None, 256)   0         \n",
      "                                                                 \n",
      " dropout_2 (Dropout)         (None, None, None, 256)   0         \n",
      "                                                                 \n",
      " conv2d_3 (Conv2D)           (None, None, None, 200)   51400     \n",
      "                                                                 \n",
      " batch_normalization_3 (Batc  (None, None, None, 200)  800       \n",
      " hNormalization)                                                 \n",
      "                                                                 \n",
      " global_max_pooling2d (Globa  (None, 200)              0         \n",
      " lMaxPooling2D)                                                  \n",
      "                                                                 \n",
      " activation_3 (Activation)   (None, 200)               0         \n",
      "                                                                 \n",
      "=================================================================\n",
      "Total params: 424,680\n",
      "Trainable params: 423,384\n",
      "Non-trainable params: 1,296\n",
      "_________________________________________________________________\n",
      "Epoch 1/50\n"
     ]
    },
    {
     "name": "stderr",
     "output_type": "stream",
     "text": [
      "2022-12-01 18:42:43.187482: W tensorflow/core/platform/profile_utils/cpu_utils.cc:128] Failed to get CPU frequency: 0 Hz\n",
      "2022-12-01 18:42:43.187919: I tensorflow/core/grappler/optimizers/custom_graph_optimizer_registry.cc:114] Plugin optimizer for device_type GPU is enabled.\n"
     ]
    },
    {
     "name": "stdout",
     "output_type": "stream",
     "text": [
      "7813/7813 [==============================] - ETA: 0s - loss: 0.5415 - accuracy: 0.8156"
     ]
    },
    {
     "name": "stderr",
     "output_type": "stream",
     "text": [
      "2022-12-01 18:44:36.170328: I tensorflow/core/grappler/optimizers/custom_graph_optimizer_registry.cc:114] Plugin optimizer for device_type GPU is enabled.\n"
     ]
    },
    {
     "name": "stdout",
     "output_type": "stream",
     "text": [
      "7813/7813 [==============================] - 114s 14ms/step - loss: 0.5415 - accuracy: 0.8156 - val_loss: 0.5041 - val_accuracy: 0.8089 - lr: 0.0010\n",
      "Epoch 2/50\n",
      "7813/7813 [==============================] - 106s 13ms/step - loss: 0.3586 - accuracy: 0.8706 - val_loss: 0.3665 - val_accuracy: 0.8651 - lr: 0.0010\n",
      "Epoch 3/50\n",
      "7813/7813 [==============================] - 106s 13ms/step - loss: 0.3141 - accuracy: 0.8859 - val_loss: 0.3187 - val_accuracy: 0.8799 - lr: 0.0010\n",
      "Epoch 4/50\n",
      "7813/7813 [==============================] - 103s 13ms/step - loss: 0.2858 - accuracy: 0.8957 - val_loss: 0.2928 - val_accuracy: 0.8915 - lr: 0.0010\n",
      "Epoch 5/50\n",
      "7813/7813 [==============================] - 103s 13ms/step - loss: 0.2650 - accuracy: 0.9029 - val_loss: 0.3527 - val_accuracy: 0.8640 - lr: 0.0010\n",
      "Epoch 6/50\n",
      "7813/7813 [==============================] - 103s 13ms/step - loss: 0.2502 - accuracy: 0.9081 - val_loss: 0.3071 - val_accuracy: 0.8880 - lr: 0.0010\n",
      "Epoch 7/50\n",
      "7813/7813 [==============================] - 102s 13ms/step - loss: 0.2376 - accuracy: 0.9127 - val_loss: 0.3135 - val_accuracy: 0.8856 - lr: 0.0010\n",
      "Epoch 8/50\n",
      "7813/7813 [==============================] - 102s 13ms/step - loss: 0.2270 - accuracy: 0.9164 - val_loss: 0.2995 - val_accuracy: 0.8928 - lr: 0.0010\n",
      "Epoch 9/50\n",
      "7813/7813 [==============================] - 102s 13ms/step - loss: 0.2163 - accuracy: 0.9206 - val_loss: 0.2778 - val_accuracy: 0.9020 - lr: 0.0010\n",
      "Epoch 10/50\n",
      "7813/7813 [==============================] - 102s 13ms/step - loss: 0.2103 - accuracy: 0.9223 - val_loss: 0.2981 - val_accuracy: 0.8919 - lr: 0.0010\n",
      "Epoch 11/50\n",
      "7813/7813 [==============================] - 102s 13ms/step - loss: 0.2020 - accuracy: 0.9254 - val_loss: 0.2740 - val_accuracy: 0.9028 - lr: 0.0010\n",
      "Epoch 12/50\n",
      "7813/7813 [==============================] - 101s 13ms/step - loss: 0.1948 - accuracy: 0.9284 - val_loss: 0.2936 - val_accuracy: 0.8970 - lr: 0.0010\n",
      "Epoch 13/50\n",
      "7813/7813 [==============================] - 99s 13ms/step - loss: 0.1887 - accuracy: 0.9302 - val_loss: 0.2793 - val_accuracy: 0.9009 - lr: 0.0010\n",
      "Epoch 14/50\n",
      "7813/7813 [==============================] - 99s 13ms/step - loss: 0.1833 - accuracy: 0.9319 - val_loss: 0.2897 - val_accuracy: 0.8958 - lr: 0.0010\n",
      "Epoch 15/50\n",
      "7813/7813 [==============================] - 99s 13ms/step - loss: 0.1789 - accuracy: 0.9333 - val_loss: 0.2681 - val_accuracy: 0.9063 - lr: 0.0010\n",
      "Epoch 16/50\n",
      "7813/7813 [==============================] - 99s 13ms/step - loss: 0.1749 - accuracy: 0.9352 - val_loss: 0.2891 - val_accuracy: 0.8991 - lr: 0.0010\n",
      "Epoch 17/50\n",
      "7813/7813 [==============================] - 99s 13ms/step - loss: 0.1698 - accuracy: 0.9368 - val_loss: 0.2830 - val_accuracy: 0.9023 - lr: 0.0010\n",
      "Epoch 18/50\n",
      "7813/7813 [==============================] - 99s 13ms/step - loss: 0.1661 - accuracy: 0.9384 - val_loss: 0.2858 - val_accuracy: 0.9040 - lr: 0.0010\n",
      "Epoch 19/50\n",
      "7813/7813 [==============================] - 99s 13ms/step - loss: 0.1614 - accuracy: 0.9398 - val_loss: 0.2858 - val_accuracy: 0.9038 - lr: 0.0010\n",
      "Epoch 20/50\n",
      "7813/7813 [==============================] - 99s 13ms/step - loss: 0.1595 - accuracy: 0.9406 - val_loss: 0.2774 - val_accuracy: 0.9042 - lr: 0.0010\n",
      "Epoch 21/50\n",
      "7813/7813 [==============================] - 99s 13ms/step - loss: 0.1562 - accuracy: 0.9418 - val_loss: 0.2847 - val_accuracy: 0.9008 - lr: 0.0010\n",
      "Epoch 22/50\n",
      "7813/7813 [==============================] - 99s 13ms/step - loss: 0.1516 - accuracy: 0.9436 - val_loss: 0.2769 - val_accuracy: 0.9090 - lr: 0.0010\n",
      "Epoch 23/50\n",
      "7813/7813 [==============================] - 99s 13ms/step - loss: 0.1498 - accuracy: 0.9441 - val_loss: 0.2878 - val_accuracy: 0.9007 - lr: 0.0010\n",
      "Epoch 24/50\n",
      "7813/7813 [==============================] - 99s 13ms/step - loss: 0.1479 - accuracy: 0.9448 - val_loss: 0.2919 - val_accuracy: 0.9036 - lr: 0.0010\n",
      "Epoch 25/50\n",
      "7813/7813 [==============================] - 99s 13ms/step - loss: 0.1444 - accuracy: 0.9464 - val_loss: 0.2921 - val_accuracy: 0.9040 - lr: 0.0010\n",
      "Epoch 26/50\n",
      "7813/7813 [==============================] - 99s 13ms/step - loss: 0.1416 - accuracy: 0.9469 - val_loss: 0.2827 - val_accuracy: 0.9095 - lr: 0.0010\n",
      "Epoch 27/50\n",
      "7813/7813 [==============================] - 99s 13ms/step - loss: 0.1399 - accuracy: 0.9478 - val_loss: 0.2756 - val_accuracy: 0.9097 - lr: 0.0010\n",
      "Epoch 28/50\n",
      "7813/7813 [==============================] - 99s 13ms/step - loss: 0.1382 - accuracy: 0.9487 - val_loss: 0.3044 - val_accuracy: 0.9034 - lr: 0.0010\n",
      "Epoch 29/50\n",
      "7813/7813 [==============================] - 99s 13ms/step - loss: 0.1358 - accuracy: 0.9493 - val_loss: 0.2925 - val_accuracy: 0.9054 - lr: 0.0010\n",
      "Epoch 30/50\n",
      "7810/7813 [============================>.] - ETA: 0s - loss: 0.1337 - accuracy: 0.9501Restoring model weights from the end of the best epoch: 15.\n",
      "7813/7813 [==============================] - 99s 13ms/step - loss: 0.1337 - accuracy: 0.9501 - val_loss: 0.2952 - val_accuracy: 0.9037 - lr: 0.0010\n",
      "Epoch 30: early stopping\n"
     ]
    },
    {
     "name": "stderr",
     "output_type": "stream",
     "text": [
      "WARNING:absl:Found untraced functions such as _jit_compiled_convolution_op, _jit_compiled_convolution_op, _jit_compiled_convolution_op, _jit_compiled_convolution_op while saving (showing 4 of 4). These functions will not be directly callable after loading.\n"
     ]
    },
    {
     "name": "stdout",
     "output_type": "stream",
     "text": [
      "INFO:tensorflow:Assets written to: /Users/gianrond/git/deeplearning/trained_models/fashion_mnist/CNNFCNNetwork/assets\n"
     ]
    },
    {
     "name": "stderr",
     "output_type": "stream",
     "text": [
      "INFO:tensorflow:Assets written to: /Users/gianrond/git/deeplearning/trained_models/fashion_mnist/CNNFCNNetwork/assets\n"
     ]
    }
   ],
   "source": [
    "name = 'CNNFCNNetwork'\n",
    "artifacts_path = model_save_fp / Path(name)\n",
    "model = CnnFCNNetwork(name=name, filepath=artifacts_path)\n",
    "model = model.connect_layers()\n",
    "epochs = 50\n",
    "model.fit(\n",
    "    x=training_dataset, \n",
    "    validation_data=validation_dataset, \n",
    "    epochs=epochs, \n",
    "    callbacks=callbacks()\n",
    ")\n",
    "model.save(artifacts_path)\n",
    "_log.info(f\"Saved {model.name} in folder {artifacts_path}\")"
   ]
  },
  {
   "cell_type": "markdown",
   "metadata": {},
   "source": [
    "Performance evaluation against test data"
   ]
  },
  {
   "cell_type": "code",
   "execution_count": null,
   "metadata": {},
   "outputs": [],
   "source": [
    "test_dataset = preprocess(test_dataset)\n",
    "test_dataset = test_dataset.batch(32).prefetch(tf.data.AUTOTUNE)"
   ]
  },
  {
   "cell_type": "markdown",
   "metadata": {},
   "source": [
    "Classification report and confusion matrix"
   ]
  },
  {
   "cell_type": "code",
   "execution_count": null,
   "metadata": {},
   "outputs": [],
   "source": [
    "model_paths = {\n",
    "    'CNNFCNNetwork' : model_save_fp / Path('CNNFCNNetwork'),\n",
    "}\n",
    "loaded_models = {}\n",
    "for model_name, model_path in model_paths.items():\n",
    "    loaded_models[model_name] = tf.keras.models.load_model(model_path)"
   ]
  },
  {
   "cell_type": "code",
   "execution_count": 10,
   "metadata": {},
   "outputs": [
    {
     "ename": "NameError",
     "evalue": "name 'loaded_models' is not defined",
     "output_type": "error",
     "traceback": [
      "\u001b[0;31m---------------------------------------------------------------------------\u001b[0m",
      "\u001b[0;31mNameError\u001b[0m                                 Traceback (most recent call last)",
      "Cell \u001b[0;32mIn [10], line 2\u001b[0m\n\u001b[1;32m      1\u001b[0m accuracies \u001b[39m=\u001b[39m {}\n\u001b[0;32m----> 2\u001b[0m \u001b[39mfor\u001b[39;00m model_name, model \u001b[39min\u001b[39;00m loaded_models\u001b[39m.\u001b[39mitems():\n\u001b[1;32m      3\u001b[0m     \u001b[39mprint\u001b[39m(\u001b[39mf\u001b[39m\u001b[39m'\u001b[39m\u001b[39m*** Model: \u001b[39m\u001b[39m{\u001b[39;00mmodel_name\u001b[39m}\u001b[39;00m\u001b[39m ***\u001b[39m\u001b[39m'\u001b[39m)\n\u001b[1;32m      4\u001b[0m     accuracies[model_name] \u001b[39m=\u001b[39m model\u001b[39m.\u001b[39mevaluate(test_dataset)\n",
      "\u001b[0;31mNameError\u001b[0m: name 'loaded_models' is not defined"
     ]
    }
   ],
   "source": [
    "accuracies = {}\n",
    "for model_name, model in loaded_models.items():\n",
    "    print(f'*** Model: {model_name} ***')\n",
    "    accuracies[model_name] = model.evaluate(test_dataset)\n",
    "    y_pred = model.predict(test_dataset)\n",
    "    y_pred_argmax = np.argmax(y_pred, axis=1)\n",
    "\n",
    "    cm = confusion_matrix(y_test, y_pred_argmax)\n",
    "    print(cm)\n",
    "    cr = classification_report(y_test, y_pred_argmax)\n",
    "    print(cr)\n",
    "print(accuracies)"
   ]
  },
  {
   "cell_type": "code",
   "execution_count": null,
   "metadata": {},
   "outputs": [],
   "source": [
    "# Checking performance\n",
    "score = model.evaluate(test_dataset)\n",
    "y_pred = model.predict(test_dataset)\n",
    "y_pred_argmax = np.argmax(y_pred, axis=1)\n",
    "\n",
    "cm = confusion_matrix(y_test, y_pred_argmax)\n",
    "print(cm)\n",
    "cr = classification_report(y_test, y_pred_argmax)\n",
    "print(cr)"
   ]
  }
 ],
 "metadata": {
  "kernelspec": {
   "display_name": "Python 3.10.0 ('tensorflow_ml')",
   "language": "python",
   "name": "python3"
  },
  "language_info": {
   "codemirror_mode": {
    "name": "ipython",
    "version": 3
   },
   "file_extension": ".py",
   "mimetype": "text/x-python",
   "name": "python",
   "nbconvert_exporter": "python",
   "pygments_lexer": "ipython3",
   "version": "3.10.0"
  },
  "orig_nbformat": 4,
  "vscode": {
   "interpreter": {
    "hash": "c0ff6795ad112cfc42e627db2a435b16e008a17ca9b9834cb7fa2fdc19fc076e"
   }
  }
 },
 "nbformat": 4,
 "nbformat_minor": 2
}
