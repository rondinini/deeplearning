{
 "cells": [
  {
   "cell_type": "code",
   "execution_count": 2,
   "metadata": {},
   "outputs": [],
   "source": [
    "%matplotlib inline\n",
    "import os\n",
    "from pathlib import Path\n",
    "import numpy as np\n",
    "import pandas as pd\n",
    "import tensorflow as tf\n",
    "import tensorflow_datasets as tfds\n",
    "from tensorflow.keras.layers import TextVectorization\n",
    "from sklearn.metrics import classification_report, confusion_matrix\n",
    "from logging import getLogger\n",
    "import seaborn as sns\n",
    "\n",
    "from src.models.utils import callbacks\n",
    "from src.preprocessing.nlp import bucketing, regex_preprocess, build_vocabulary\n",
    "from src.projects.ag_news.architecture import CnnGRU, GRUNet"
   ]
  },
  {
   "cell_type": "markdown",
   "metadata": {},
   "source": [
    "Logging and constants"
   ]
  },
  {
   "cell_type": "code",
   "execution_count": 3,
   "metadata": {},
   "outputs": [],
   "source": [
    "_log = getLogger()\n",
    "model_save_fp = Path(os.getcwd()) / Path('trained_models') / Path('ag_news')"
   ]
  },
  {
   "cell_type": "markdown",
   "metadata": {},
   "source": [
    "Loading a Tensorflow dataset and splitting train into train and validation"
   ]
  },
  {
   "cell_type": "code",
   "execution_count": 4,
   "metadata": {},
   "outputs": [
    {
     "name": "stdout",
     "output_type": "stream",
     "text": [
      "Metal device set to: Apple M1 Max\n",
      "\n",
      "systemMemory: 32.00 GB\n",
      "maxCacheSize: 10.67 GB\n",
      "\n"
     ]
    },
    {
     "name": "stderr",
     "output_type": "stream",
     "text": [
      "2022-12-02 14:06:37.096041: I tensorflow/core/common_runtime/pluggable_device/pluggable_device_factory.cc:306] Could not identify NUMA node of platform GPU ID 0, defaulting to 0. Your kernel may not have been built with NUMA support.\n",
      "2022-12-02 14:06:37.096195: I tensorflow/core/common_runtime/pluggable_device/pluggable_device_factory.cc:272] Created TensorFlow device (/job:localhost/replica:0/task:0/device:GPU:0 with 0 MB memory) -> physical PluggableDevice (device: 0, name: METAL, pci bus id: <undefined>)\n"
     ]
    }
   ],
   "source": [
    "datasets, info = tfds.load(\"ag_news_subset\", as_supervised=True, with_info=True)\n",
    "TRAIN_SIZE = int(120000 * 0.8)\n",
    "train_dataset = datasets['train'].take(TRAIN_SIZE)\n",
    "validation_dataset = datasets['train'].skip(TRAIN_SIZE)\n",
    "test_dataset = datasets['test']"
   ]
  },
  {
   "cell_type": "markdown",
   "metadata": {},
   "source": [
    "Preprocessing text data"
   ]
  },
  {
   "cell_type": "code",
   "execution_count": 5,
   "metadata": {},
   "outputs": [],
   "source": [
    "train_dataset = train_dataset.map(lambda x, y: (regex_preprocess(x), y), num_parallel_calls=tf.data.AUTOTUNE)\n",
    "validation_dataset = validation_dataset.map(lambda x, y: (regex_preprocess(x), y), num_parallel_calls=tf.data.AUTOTUNE)"
   ]
  },
  {
   "cell_type": "markdown",
   "metadata": {},
   "source": [
    "Since we use variable sequence lengths, we will bucket similarly sized sequences together and pad them accordingly. We need to also ensure that within each training batch, the sequence lengths is always the same. Hence sequence lengths will vary across batches, but not within the same batch."
   ]
  },
  {
   "cell_type": "code",
   "execution_count": 6,
   "metadata": {},
   "outputs": [],
   "source": [
    "batch_size = 32\n",
    "bucket_boundaries = [(0, 20), (20, 30), (30, 40), (40, 60), (60, 90), (90, 120)]\n",
    "train_dataset = bucketing(\n",
    "    dataset=train_dataset, \n",
    "    bucket_boundaries=bucket_boundaries, \n",
    "    batch_size=batch_size, \n",
    "    drop_remainder=True\n",
    ")\n",
    "validation_dataset = bucketing(\n",
    "    dataset=validation_dataset, \n",
    "    bucket_boundaries=bucket_boundaries, \n",
    "    batch_size=batch_size, \n",
    "    drop_remainder=True\n",
    ")"
   ]
  },
  {
   "cell_type": "markdown",
   "metadata": {},
   "source": [
    "We can now create a vocabulary and adapt the tf.TextVectorization layer on it. The layer will then be passed to the model for both inference and training."
   ]
  },
  {
   "cell_type": "code",
   "execution_count": 7,
   "metadata": {},
   "outputs": [
    {
     "name": "stderr",
     "output_type": "stream",
     "text": [
      "2022-12-02 14:06:37.670044: W tensorflow/core/platform/profile_utils/cpu_utils.cc:128] Failed to get CPU frequency: 0 Hz\n",
      "2022-12-02 14:06:37.763438: I tensorflow/core/grappler/optimizers/custom_graph_optimizer_registry.cc:114] Plugin optimizer for device_type GPU is enabled.\n",
      "2022-12-02 14:06:44.623677: W tensorflow/core/kernels/data/cache_dataset_ops.cc:856] The calling iterator did not fully read the dataset being cached. In order to avoid unexpected truncation of the dataset, the partially cached contents of the dataset  will be discarded. This can happen if you have an input pipeline similar to `dataset.cache().take(k).repeat()`. You should use `dataset.take(k).cache().repeat()` instead.\n",
      "2022-12-02 14:07:15.566817: W tensorflow/core/kernels/data/cache_dataset_ops.cc:856] The calling iterator did not fully read the dataset being cached. In order to avoid unexpected truncation of the dataset, the partially cached contents of the dataset  will be discarded. This can happen if you have an input pipeline similar to `dataset.cache().take(k).repeat()`. You should use `dataset.take(k).cache().repeat()` instead.\n",
      "2022-12-02 14:07:52.963151: W tensorflow/core/kernels/data/cache_dataset_ops.cc:856] The calling iterator did not fully read the dataset being cached. In order to avoid unexpected truncation of the dataset, the partially cached contents of the dataset  will be discarded. This can happen if you have an input pipeline similar to `dataset.cache().take(k).repeat()`. You should use `dataset.take(k).cache().repeat()` instead.\n",
      "2022-12-02 14:08:05.465863: W tensorflow/core/kernels/data/cache_dataset_ops.cc:856] The calling iterator did not fully read the dataset being cached. In order to avoid unexpected truncation of the dataset, the partially cached contents of the dataset  will be discarded. This can happen if you have an input pipeline similar to `dataset.cache().take(k).repeat()`. You should use `dataset.take(k).cache().repeat()` instead.\n",
      "2022-12-02 14:08:09.676546: W tensorflow/core/kernels/data/cache_dataset_ops.cc:856] The calling iterator did not fully read the dataset being cached. In order to avoid unexpected truncation of the dataset, the partially cached contents of the dataset  will be discarded. This can happen if you have an input pipeline similar to `dataset.cache().take(k).repeat()`. You should use `dataset.take(k).cache().repeat()` instead.\n",
      "2022-12-02 14:08:13.334698: W tensorflow/core/kernels/data/cache_dataset_ops.cc:856] The calling iterator did not fully read the dataset being cached. In order to avoid unexpected truncation of the dataset, the partially cached contents of the dataset  will be discarded. This can happen if you have an input pipeline similar to `dataset.cache().take(k).repeat()`. You should use `dataset.take(k).cache().repeat()` instead.\n"
     ]
    }
   ],
   "source": [
    "train_text_ds = train_dataset.map(lambda seq, lab: seq, num_parallel_calls=tf.data.AUTOTUNE)\n",
    "flattened_x_train_ds = train_text_ds.flat_map(tf.data.Dataset.from_tensor_slices)\n",
    "vocab_size = 20000\n",
    "vect_layer = TextVectorization(\n",
    "    max_tokens=vocab_size,\n",
    "    standardize=None,\n",
    "    split=None,\n",
    "    output_mode='int',\n",
    "    output_sequence_length=None,\n",
    ")\n",
    "vect_layer.adapt(flattened_x_train_ds)"
   ]
  },
  {
   "cell_type": "markdown",
   "metadata": {},
   "source": [
    "We will now create a model that combines 1D Convolutional layera with a GRU layer. The rationale behind is to be able to feed longer sequences to the RNN, while mitigating the risk of exploding/vanishing gradients, since some of the input sequences can be fairly long (up to 120 timesteps).\n",
    "\n",
    "Since the Conv1D applies a stride of 2, we effectively cut by half the length of each time sequence before it hits the GRU layer.\n",
    "\n",
    "The output layer is a Dense layer with a softmax activation function (since we have 4 labels in total to predict)"
   ]
  },
  {
   "cell_type": "code",
   "execution_count": 8,
   "metadata": {},
   "outputs": [],
   "source": [
    "train_dataset = train_dataset.shuffle(2000, reshuffle_each_iteration=True).repeat().prefetch(tf.data.AUTOTUNE)\n",
    "validation_dataset = validation_dataset.repeat().prefetch(tf.data.AUTOTUNE)"
   ]
  },
  {
   "cell_type": "markdown",
   "metadata": {},
   "source": [
    "We can now start training. Both the training and validation datasets will repeat indefinitely, so we have to specify how many steps define an epoch"
   ]
  },
  {
   "cell_type": "code",
   "execution_count": 9,
   "metadata": {},
   "outputs": [
    {
     "name": "stdout",
     "output_type": "stream",
     "text": [
      "Epoch 1/30\n"
     ]
    },
    {
     "name": "stderr",
     "output_type": "stream",
     "text": [
      "2022-12-01 15:38:32.012992: I tensorflow/core/grappler/optimizers/custom_graph_optimizer_registry.cc:114] Plugin optimizer for device_type GPU is enabled.\n",
      "2022-12-01 15:38:36.157881: W tensorflow/core/kernels/data/cache_dataset_ops.cc:856] The calling iterator did not fully read the dataset being cached. In order to avoid unexpected truncation of the dataset, the partially cached contents of the dataset  will be discarded. This can happen if you have an input pipeline similar to `dataset.cache().take(k).repeat()`. You should use `dataset.take(k).cache().repeat()` instead.\n",
      "2022-12-01 15:38:40.414227: W tensorflow/core/kernels/data/cache_dataset_ops.cc:856] The calling iterator did not fully read the dataset being cached. In order to avoid unexpected truncation of the dataset, the partially cached contents of the dataset  will be discarded. This can happen if you have an input pipeline similar to `dataset.cache().take(k).repeat()`. You should use `dataset.take(k).cache().repeat()` instead.\n",
      "2022-12-01 15:38:42.238226: I tensorflow/core/kernels/data/shuffle_dataset_op.cc:390] Filling up shuffle buffer (this may take a while): 1751 of 2000\n",
      "2022-12-01 15:38:43.048649: I tensorflow/core/kernels/data/shuffle_dataset_op.cc:415] Shuffle buffer filled.\n",
      "2022-12-01 15:38:43.419094: W tensorflow/core/common_runtime/forward_type_inference.cc:332] Type inference failed. This indicates an invalid graph that escaped type checking. Error message: INVALID_ARGUMENT: expected compatible input types, but input 1:\n",
      "type_id: TFT_OPTIONAL\n",
      "args {\n",
      "  type_id: TFT_PRODUCT\n",
      "  args {\n",
      "    type_id: TFT_TENSOR\n",
      "    args {\n",
      "      type_id: TFT_INT32\n",
      "    }\n",
      "  }\n",
      "}\n",
      " is neither a subtype nor a supertype of the combined inputs preceding it:\n",
      "type_id: TFT_OPTIONAL\n",
      "args {\n",
      "  type_id: TFT_PRODUCT\n",
      "  args {\n",
      "    type_id: TFT_TENSOR\n",
      "    args {\n",
      "      type_id: TFT_FLOAT\n",
      "    }\n",
      "  }\n",
      "}\n",
      "\n",
      "\twhile inferring type of node 'cond_19/output/_21'\n",
      "2022-12-01 15:38:43.421891: I tensorflow/core/grappler/optimizers/custom_graph_optimizer_registry.cc:114] Plugin optimizer for device_type GPU is enabled.\n",
      "2022-12-01 15:38:43.696862: I tensorflow/core/grappler/optimizers/custom_graph_optimizer_registry.cc:114] Plugin optimizer for device_type GPU is enabled.\n"
     ]
    },
    {
     "name": "stdout",
     "output_type": "stream",
     "text": [
      " 533/3500 [===>..........................] - ETA: 1:39 - loss: 0.7811 - accuracy: 0.6731"
     ]
    },
    {
     "name": "stderr",
     "output_type": "stream",
     "text": [
      "2022-12-01 15:39:01.816925: W tensorflow/core/kernels/data/cache_dataset_ops.cc:856] The calling iterator did not fully read the dataset being cached. In order to avoid unexpected truncation of the dataset, the partially cached contents of the dataset  will be discarded. This can happen if you have an input pipeline similar to `dataset.cache().take(k).repeat()`. You should use `dataset.take(k).cache().repeat()` instead.\n"
     ]
    },
    {
     "name": "stdout",
     "output_type": "stream",
     "text": [
      " 923/3500 [======>.......................] - ETA: 1:27 - loss: 0.6507 - accuracy: 0.7444"
     ]
    },
    {
     "name": "stderr",
     "output_type": "stream",
     "text": [
      "2022-12-01 15:39:15.262180: W tensorflow/core/kernels/data/cache_dataset_ops.cc:856] The calling iterator did not fully read the dataset being cached. In order to avoid unexpected truncation of the dataset, the partially cached contents of the dataset  will be discarded. This can happen if you have an input pipeline similar to `dataset.cache().take(k).repeat()`. You should use `dataset.take(k).cache().repeat()` instead.\n"
     ]
    },
    {
     "name": "stdout",
     "output_type": "stream",
     "text": [
      " 989/3500 [=======>......................] - ETA: 1:30 - loss: 0.6377 - accuracy: 0.7518"
     ]
    },
    {
     "name": "stderr",
     "output_type": "stream",
     "text": [
      "2022-12-01 15:39:19.983016: W tensorflow/core/kernels/data/cache_dataset_ops.cc:856] The calling iterator did not fully read the dataset being cached. In order to avoid unexpected truncation of the dataset, the partially cached contents of the dataset  will be discarded. This can happen if you have an input pipeline similar to `dataset.cache().take(k).repeat()`. You should use `dataset.take(k).cache().repeat()` instead.\n"
     ]
    },
    {
     "name": "stdout",
     "output_type": "stream",
     "text": [
      " 996/3500 [=======>......................] - ETA: 1:40 - loss: 0.6358 - accuracy: 0.7526"
     ]
    },
    {
     "name": "stderr",
     "output_type": "stream",
     "text": [
      "2022-12-01 15:39:24.101831: W tensorflow/core/kernels/data/cache_dataset_ops.cc:856] The calling iterator did not fully read the dataset being cached. In order to avoid unexpected truncation of the dataset, the partially cached contents of the dataset  will be discarded. This can happen if you have an input pipeline similar to `dataset.cache().take(k).repeat()`. You should use `dataset.take(k).cache().repeat()` instead.\n"
     ]
    },
    {
     "name": "stdout",
     "output_type": "stream",
     "text": [
      "1177/3500 [=========>....................] - ETA: 1:32 - loss: 0.6028 - accuracy: 0.7697"
     ]
    },
    {
     "name": "stderr",
     "output_type": "stream",
     "text": [
      "2022-12-01 15:39:30.928941: W tensorflow/core/kernels/data/cache_dataset_ops.cc:856] The calling iterator did not fully read the dataset being cached. In order to avoid unexpected truncation of the dataset, the partially cached contents of the dataset  will be discarded. This can happen if you have an input pipeline similar to `dataset.cache().take(k).repeat()`. You should use `dataset.take(k).cache().repeat()` instead.\n"
     ]
    },
    {
     "name": "stdout",
     "output_type": "stream",
     "text": [
      "2228/3500 [==================>...........] - ETA: 46s - loss: 0.5008 - accuracy: 0.8190"
     ]
    },
    {
     "name": "stderr",
     "output_type": "stream",
     "text": [
      "2022-12-01 15:40:05.574698: W tensorflow/core/kernels/data/cache_dataset_ops.cc:856] The calling iterator did not fully read the dataset being cached. In order to avoid unexpected truncation of the dataset, the partially cached contents of the dataset  will be discarded. This can happen if you have an input pipeline similar to `dataset.cache().take(k).repeat()`. You should use `dataset.take(k).cache().repeat()` instead.\n"
     ]
    },
    {
     "name": "stdout",
     "output_type": "stream",
     "text": [
      "3500/3500 [==============================] - ETA: 0s - loss: 0.4298 - accuracy: 0.8486"
     ]
    },
    {
     "name": "stderr",
     "output_type": "stream",
     "text": [
      "2022-12-01 15:40:45.656445: I tensorflow/core/grappler/optimizers/custom_graph_optimizer_registry.cc:114] Plugin optimizer for device_type GPU is enabled.\n",
      "2022-12-01 15:40:47.189467: I tensorflow/core/grappler/optimizers/custom_graph_optimizer_registry.cc:114] Plugin optimizer for device_type GPU is enabled.\n"
     ]
    },
    {
     "name": "stdout",
     "output_type": "stream",
     "text": [
      "3500/3500 [==============================] - 190s 50ms/step - loss: 0.4298 - accuracy: 0.8486 - val_loss: 0.3226 - val_accuracy: 0.8927 - lr: 0.0010\n",
      "Epoch 2/30\n",
      "3500/3500 [==============================] - 173s 49ms/step - loss: 0.2355 - accuracy: 0.9226 - val_loss: 0.3564 - val_accuracy: 0.8905 - lr: 0.0010\n",
      "Epoch 3/30\n",
      "3500/3500 [==============================] - 170s 49ms/step - loss: 0.1563 - accuracy: 0.9491 - val_loss: 0.3963 - val_accuracy: 0.8884 - lr: 0.0010\n",
      "Epoch 4/30\n",
      "3500/3500 [==============================] - 163s 46ms/step - loss: 0.0999 - accuracy: 0.9680 - val_loss: 0.4765 - val_accuracy: 0.8803 - lr: 0.0010\n",
      "Epoch 5/30\n",
      "3500/3500 [==============================] - 161s 46ms/step - loss: 0.0705 - accuracy: 0.9773 - val_loss: 0.5115 - val_accuracy: 0.8807 - lr: 0.0010\n",
      "Epoch 6/30\n",
      "3500/3500 [==============================] - 159s 45ms/step - loss: 0.0591 - accuracy: 0.9810 - val_loss: 0.5426 - val_accuracy: 0.8839 - lr: 0.0010\n",
      "Epoch 7/30\n",
      "3500/3500 [==============================] - 157s 45ms/step - loss: 0.0426 - accuracy: 0.9865 - val_loss: 0.6212 - val_accuracy: 0.8783 - lr: 0.0010\n",
      "Epoch 8/30\n",
      "3500/3500 [==============================] - 158s 45ms/step - loss: 0.0437 - accuracy: 0.9859 - val_loss: 0.6423 - val_accuracy: 0.8813 - lr: 0.0010\n",
      "Epoch 9/30\n",
      "3500/3500 [==============================] - 158s 45ms/step - loss: 0.0422 - accuracy: 0.9862 - val_loss: 0.6394 - val_accuracy: 0.8752 - lr: 0.0010\n",
      "Epoch 10/30\n",
      "3500/3500 [==============================] - 157s 45ms/step - loss: 0.0407 - accuracy: 0.9867 - val_loss: 0.6808 - val_accuracy: 0.8704 - lr: 0.0010\n",
      "Epoch 11/30\n",
      "3500/3500 [==============================] - 156s 45ms/step - loss: 0.0399 - accuracy: 0.9868 - val_loss: 0.6277 - val_accuracy: 0.8723 - lr: 0.0010\n",
      "Epoch 12/30\n",
      "3500/3500 [==============================] - 157s 45ms/step - loss: 0.0391 - accuracy: 0.9870 - val_loss: 0.6334 - val_accuracy: 0.8741 - lr: 0.0010\n",
      "Epoch 13/30\n",
      "3500/3500 [==============================] - 157s 45ms/step - loss: 0.0355 - accuracy: 0.9882 - val_loss: 0.7167 - val_accuracy: 0.8638 - lr: 0.0010\n",
      "Epoch 14/30\n",
      "3500/3500 [==============================] - 158s 45ms/step - loss: 0.0374 - accuracy: 0.9875 - val_loss: 0.7047 - val_accuracy: 0.8704 - lr: 0.0010\n",
      "Epoch 15/30\n",
      "3500/3500 [==============================] - 156s 45ms/step - loss: 0.0362 - accuracy: 0.9878 - val_loss: 0.7351 - val_accuracy: 0.8697 - lr: 0.0010\n",
      "Epoch 16/30\n",
      "3499/3500 [============================>.] - ETA: 0s - loss: 0.0389 - accuracy: 0.9869Restoring model weights from the end of the best epoch: 1.\n",
      "3500/3500 [==============================] - 156s 44ms/step - loss: 0.0389 - accuracy: 0.9869 - val_loss: 0.7481 - val_accuracy: 0.8612 - lr: 0.0010\n",
      "Epoch 16: early stopping\n"
     ]
    },
    {
     "name": "stderr",
     "output_type": "stream",
     "text": [
      "WARNING:absl:Found untraced functions such as _jit_compiled_convolution_op, _jit_compiled_convolution_op, gru_cell_layer_call_fn, gru_cell_layer_call_and_return_conditional_losses while saving (showing 4 of 4). These functions will not be directly callable after loading.\n"
     ]
    },
    {
     "name": "stdout",
     "output_type": "stream",
     "text": [
      "INFO:tensorflow:Assets written to: /Users/gianrond/git/deeplearning/trained_models/ag_news/CnnGRU/assets\n"
     ]
    },
    {
     "name": "stderr",
     "output_type": "stream",
     "text": [
      "INFO:tensorflow:Assets written to: /Users/gianrond/git/deeplearning/trained_models/ag_news/CnnGRU/assets\n"
     ]
    }
   ],
   "source": [
    "name = 'CnnGRU'\n",
    "artifacts_path = model_save_fp / Path(name)\n",
    "model = CnnGRU(name=name, filepath=artifacts_path)\n",
    "model = model.connect_layers(vocab_size=vocab_size, vect_layer=vect_layer)\n",
    "epochs = 30\n",
    "model.fit(\n",
    "    x=train_dataset, \n",
    "    validation_data=validation_dataset, \n",
    "    epochs=epochs, \n",
    "    callbacks=callbacks(), \n",
    "    steps_per_epoch=3500, \n",
    "    validation_steps=3500\n",
    ")\n",
    "model.save(artifacts_path)\n",
    "_log.info(f\"Saved {model.name} in folder {artifacts_path}\")"
   ]
  },
  {
   "cell_type": "code",
   "execution_count": 8,
   "metadata": {},
   "outputs": [
    {
     "name": "stdout",
     "output_type": "stream",
     "text": [
      "Model: \"GRUNet\"\n",
      "__________________________________________________________________________________________________\n",
      " Layer (type)                   Output Shape         Param #     Connected to                     \n",
      "==================================================================================================\n",
      " input_1 (InputLayer)           [(None, None)]       0           []                               \n",
      "                                                                                                  \n",
      " text_vectorization (TextVector  (None, None)        0           ['input_1[0][0]']                \n",
      " ization)                                                                                         \n",
      "                                                                                                  \n",
      " embedding (Embedding)          (None, None, 128)    2560128     ['text_vectorization[0][0]']     \n",
      "                                                                                                  \n",
      " lambda (Lambda)                (None, None)         0           ['input_1[0][0]']                \n",
      "                                                                                                  \n",
      " gru (GRU)                      (None, None, 64)     37248       ['embedding[0][0]',              \n",
      "                                                                  'lambda[0][0]']                 \n",
      "                                                                                                  \n",
      " gru_1 (GRU)                    (None, 64)           24960       ['gru[0][0]',                    \n",
      "                                                                  'lambda[0][0]']                 \n",
      "                                                                                                  \n",
      " dropout (Dropout)              (None, 64)           0           ['gru_1[0][0]']                  \n",
      "                                                                                                  \n",
      " dense (Dense)                  (None, 4)            260         ['dropout[0][0]']                \n",
      "                                                                                                  \n",
      "==================================================================================================\n",
      "Total params: 2,622,596\n",
      "Trainable params: 2,622,596\n",
      "Non-trainable params: 0\n",
      "__________________________________________________________________________________________________\n",
      "Epoch 1/30\n"
     ]
    },
    {
     "name": "stderr",
     "output_type": "stream",
     "text": [
      "2022-12-01 17:17:14.443013: I tensorflow/core/grappler/optimizers/custom_graph_optimizer_registry.cc:114] Plugin optimizer for device_type GPU is enabled.\n",
      "2022-12-01 17:17:19.340182: W tensorflow/core/kernels/data/cache_dataset_ops.cc:856] The calling iterator did not fully read the dataset being cached. In order to avoid unexpected truncation of the dataset, the partially cached contents of the dataset  will be discarded. This can happen if you have an input pipeline similar to `dataset.cache().take(k).repeat()`. You should use `dataset.take(k).cache().repeat()` instead.\n",
      "2022-12-01 17:17:23.872906: W tensorflow/core/kernels/data/cache_dataset_ops.cc:856] The calling iterator did not fully read the dataset being cached. In order to avoid unexpected truncation of the dataset, the partially cached contents of the dataset  will be discarded. This can happen if you have an input pipeline similar to `dataset.cache().take(k).repeat()`. You should use `dataset.take(k).cache().repeat()` instead.\n",
      "2022-12-01 17:17:24.787601: I tensorflow/core/kernels/data/shuffle_dataset_op.cc:390] Filling up shuffle buffer (this may take a while): 1488 of 2000\n",
      "2022-12-01 17:17:26.552838: I tensorflow/core/kernels/data/shuffle_dataset_op.cc:415] Shuffle buffer filled.\n",
      "2022-12-01 17:17:26.569444: W tensorflow/core/common_runtime/forward_type_inference.cc:332] Type inference failed. This indicates an invalid graph that escaped type checking. Error message: INVALID_ARGUMENT: expected compatible input types, but input 1:\n",
      "type_id: TFT_OPTIONAL\n",
      "args {\n",
      "  type_id: TFT_PRODUCT\n",
      "  args {\n",
      "    type_id: TFT_TENSOR\n",
      "    args {\n",
      "      type_id: TFT_INT32\n",
      "    }\n",
      "  }\n",
      "}\n",
      " is neither a subtype nor a supertype of the combined inputs preceding it:\n",
      "type_id: TFT_OPTIONAL\n",
      "args {\n",
      "  type_id: TFT_PRODUCT\n",
      "  args {\n",
      "    type_id: TFT_TENSOR\n",
      "    args {\n",
      "      type_id: TFT_INT8\n",
      "    }\n",
      "  }\n",
      "}\n",
      "\n",
      "\twhile inferring type of node 'cond_20/output/_22'\n",
      "2022-12-01 17:17:26.572609: I tensorflow/core/grappler/optimizers/custom_graph_optimizer_registry.cc:114] Plugin optimizer for device_type GPU is enabled.\n",
      "2022-12-01 17:17:26.768832: I tensorflow/core/grappler/optimizers/custom_graph_optimizer_registry.cc:114] Plugin optimizer for device_type GPU is enabled.\n",
      "2022-12-01 17:17:27.005729: I tensorflow/core/grappler/optimizers/custom_graph_optimizer_registry.cc:114] Plugin optimizer for device_type GPU is enabled.\n",
      "2022-12-01 17:17:27.239425: I tensorflow/core/grappler/optimizers/custom_graph_optimizer_registry.cc:114] Plugin optimizer for device_type GPU is enabled.\n"
     ]
    },
    {
     "name": "stdout",
     "output_type": "stream",
     "text": [
      " 531/3500 [===>..........................] - ETA: 2:23 - loss: 0.7465 - accuracy: 0.6774"
     ]
    },
    {
     "name": "stderr",
     "output_type": "stream",
     "text": [
      "2022-12-01 17:17:52.866170: W tensorflow/core/kernels/data/cache_dataset_ops.cc:856] The calling iterator did not fully read the dataset being cached. In order to avoid unexpected truncation of the dataset, the partially cached contents of the dataset  will be discarded. This can happen if you have an input pipeline similar to `dataset.cache().take(k).repeat()`. You should use `dataset.take(k).cache().repeat()` instead.\n"
     ]
    },
    {
     "name": "stdout",
     "output_type": "stream",
     "text": [
      " 924/3500 [======>.......................] - ETA: 2:07 - loss: 0.6152 - accuracy: 0.7540"
     ]
    },
    {
     "name": "stderr",
     "output_type": "stream",
     "text": [
      "2022-12-01 17:18:12.886067: W tensorflow/core/kernels/data/cache_dataset_ops.cc:856] The calling iterator did not fully read the dataset being cached. In order to avoid unexpected truncation of the dataset, the partially cached contents of the dataset  will be discarded. This can happen if you have an input pipeline similar to `dataset.cache().take(k).repeat()`. You should use `dataset.take(k).cache().repeat()` instead.\n"
     ]
    },
    {
     "name": "stdout",
     "output_type": "stream",
     "text": [
      " 989/3500 [=======>......................] - ETA: 2:08 - loss: 0.6043 - accuracy: 0.7608"
     ]
    },
    {
     "name": "stderr",
     "output_type": "stream",
     "text": [
      "2022-12-01 17:18:17.972755: W tensorflow/core/kernels/data/cache_dataset_ops.cc:856] The calling iterator did not fully read the dataset being cached. In order to avoid unexpected truncation of the dataset, the partially cached contents of the dataset  will be discarded. This can happen if you have an input pipeline similar to `dataset.cache().take(k).repeat()`. You should use `dataset.take(k).cache().repeat()` instead.\n"
     ]
    },
    {
     "name": "stdout",
     "output_type": "stream",
     "text": [
      " 996/3500 [=======>......................] - ETA: 2:17 - loss: 0.6032 - accuracy: 0.7615"
     ]
    },
    {
     "name": "stderr",
     "output_type": "stream",
     "text": [
      "2022-12-01 17:18:22.080496: W tensorflow/core/kernels/data/cache_dataset_ops.cc:856] The calling iterator did not fully read the dataset being cached. In order to avoid unexpected truncation of the dataset, the partially cached contents of the dataset  will be discarded. This can happen if you have an input pipeline similar to `dataset.cache().take(k).repeat()`. You should use `dataset.take(k).cache().repeat()` instead.\n"
     ]
    },
    {
     "name": "stdout",
     "output_type": "stream",
     "text": [
      "1176/3500 [=========>....................] - ETA: 2:09 - loss: 0.5776 - accuracy: 0.7772"
     ]
    },
    {
     "name": "stderr",
     "output_type": "stream",
     "text": [
      "2022-12-01 17:18:32.649371: W tensorflow/core/kernels/data/cache_dataset_ops.cc:856] The calling iterator did not fully read the dataset being cached. In order to avoid unexpected truncation of the dataset, the partially cached contents of the dataset  will be discarded. This can happen if you have an input pipeline similar to `dataset.cache().take(k).repeat()`. You should use `dataset.take(k).cache().repeat()` instead.\n"
     ]
    },
    {
     "name": "stdout",
     "output_type": "stream",
     "text": [
      "2229/3500 [==================>...........] - ETA: 1:08 - loss: 0.5235 - accuracy: 0.8124"
     ]
    },
    {
     "name": "stderr",
     "output_type": "stream",
     "text": [
      "2022-12-01 17:19:26.608918: W tensorflow/core/kernels/data/cache_dataset_ops.cc:856] The calling iterator did not fully read the dataset being cached. In order to avoid unexpected truncation of the dataset, the partially cached contents of the dataset  will be discarded. This can happen if you have an input pipeline similar to `dataset.cache().take(k).repeat()`. You should use `dataset.take(k).cache().repeat()` instead.\n"
     ]
    },
    {
     "name": "stdout",
     "output_type": "stream",
     "text": [
      "3499/3500 [============================>.] - ETA: 0s - loss: 0.4720 - accuracy: 0.8362"
     ]
    },
    {
     "name": "stderr",
     "output_type": "stream",
     "text": [
      "2022-12-01 17:20:27.353967: I tensorflow/core/grappler/optimizers/custom_graph_optimizer_registry.cc:114] Plugin optimizer for device_type GPU is enabled.\n",
      "2022-12-01 17:20:29.047351: I tensorflow/core/grappler/optimizers/custom_graph_optimizer_registry.cc:114] Plugin optimizer for device_type GPU is enabled.\n",
      "2022-12-01 17:20:29.214588: I tensorflow/core/grappler/optimizers/custom_graph_optimizer_registry.cc:114] Plugin optimizer for device_type GPU is enabled.\n"
     ]
    },
    {
     "name": "stdout",
     "output_type": "stream",
     "text": [
      "3500/3500 [==============================] - 282s 76ms/step - loss: 0.4719 - accuracy: 0.8362 - val_loss: 0.3558 - val_accuracy: 0.8846 - lr: 0.0010\n",
      "Epoch 2/30\n",
      "3500/3500 [==============================] - 270s 77ms/step - loss: 0.2986 - accuracy: 0.9036 - val_loss: 0.3097 - val_accuracy: 0.8983 - lr: 0.0010\n",
      "Epoch 3/30\n",
      "3500/3500 [==============================] - 264s 76ms/step - loss: 0.2403 - accuracy: 0.9223 - val_loss: 0.3032 - val_accuracy: 0.8992 - lr: 0.0010\n",
      "Epoch 4/30\n",
      "3500/3500 [==============================] - 260s 74ms/step - loss: 0.2080 - accuracy: 0.9322 - val_loss: 0.3068 - val_accuracy: 0.8986 - lr: 0.0010\n",
      "Epoch 5/30\n",
      "3500/3500 [==============================] - 255s 73ms/step - loss: 0.1868 - accuracy: 0.9377 - val_loss: 0.3202 - val_accuracy: 0.8949 - lr: 0.0010\n",
      "Epoch 6/30\n",
      "3500/3500 [==============================] - 252s 72ms/step - loss: 0.1681 - accuracy: 0.9427 - val_loss: 0.3432 - val_accuracy: 0.8939 - lr: 0.0010\n",
      "Epoch 7/30\n",
      "3500/3500 [==============================] - 323s 92ms/step - loss: 0.1538 - accuracy: 0.9473 - val_loss: 0.3654 - val_accuracy: 0.8910 - lr: 0.0010\n",
      "Epoch 8/30\n",
      "3500/3500 [==============================] - 256s 73ms/step - loss: 0.1498 - accuracy: 0.9490 - val_loss: 0.3768 - val_accuracy: 0.8863 - lr: 0.0010\n",
      "Epoch 9/30\n",
      "3500/3500 [==============================] - 254s 73ms/step - loss: 0.1406 - accuracy: 0.9510 - val_loss: 0.3819 - val_accuracy: 0.8843 - lr: 0.0010\n",
      "Epoch 10/30\n",
      "3500/3500 [==============================] - 248s 71ms/step - loss: 0.1374 - accuracy: 0.9522 - val_loss: 0.4108 - val_accuracy: 0.8829 - lr: 0.0010\n",
      "Epoch 11/30\n",
      "3500/3500 [==============================] - 251s 72ms/step - loss: 0.1359 - accuracy: 0.9533 - val_loss: 0.3879 - val_accuracy: 0.8857 - lr: 0.0010\n",
      "Epoch 12/30\n",
      "3500/3500 [==============================] - 253s 72ms/step - loss: 0.1326 - accuracy: 0.9542 - val_loss: 0.4075 - val_accuracy: 0.8849 - lr: 0.0010\n",
      "Epoch 13/30\n",
      "3500/3500 [==============================] - 251s 72ms/step - loss: 0.1282 - accuracy: 0.9555 - val_loss: 0.4168 - val_accuracy: 0.8803 - lr: 0.0010\n",
      "Epoch 14/30\n",
      "3500/3500 [==============================] - 253s 72ms/step - loss: 0.1326 - accuracy: 0.9540 - val_loss: 0.4367 - val_accuracy: 0.8749 - lr: 0.0010\n",
      "Epoch 15/30\n",
      "3500/3500 [==============================] - 256s 73ms/step - loss: 0.1331 - accuracy: 0.9547 - val_loss: 0.4232 - val_accuracy: 0.8823 - lr: 0.0010\n",
      "Epoch 16/30\n",
      "3500/3500 [==============================] - 262s 75ms/step - loss: 0.1341 - accuracy: 0.9533 - val_loss: 0.4068 - val_accuracy: 0.8828 - lr: 0.0010\n",
      "Epoch 17/30\n",
      "3500/3500 [==============================] - 260s 74ms/step - loss: 0.1349 - accuracy: 0.9526 - val_loss: 0.4066 - val_accuracy: 0.8814 - lr: 0.0010\n",
      "Epoch 18/30\n",
      "3500/3500 [==============================] - ETA: 0s - loss: 0.1377 - accuracy: 0.9523Restoring model weights from the end of the best epoch: 3.\n",
      "3500/3500 [==============================] - 255s 73ms/step - loss: 0.1377 - accuracy: 0.9523 - val_loss: 0.4172 - val_accuracy: 0.8817 - lr: 0.0010\n",
      "Epoch 18: early stopping\n"
     ]
    },
    {
     "name": "stderr",
     "output_type": "stream",
     "text": [
      "WARNING:absl:Found untraced functions such as gru_cell_layer_call_fn, gru_cell_layer_call_and_return_conditional_losses, gru_cell_1_layer_call_fn, gru_cell_1_layer_call_and_return_conditional_losses while saving (showing 4 of 4). These functions will not be directly callable after loading.\n"
     ]
    },
    {
     "name": "stdout",
     "output_type": "stream",
     "text": [
      "INFO:tensorflow:Assets written to: /Users/gianrond/git/deeplearning/trained_models/ag_news/GRUNet/assets\n"
     ]
    },
    {
     "name": "stderr",
     "output_type": "stream",
     "text": [
      "INFO:tensorflow:Assets written to: /Users/gianrond/git/deeplearning/trained_models/ag_news/GRUNet/assets\n"
     ]
    }
   ],
   "source": [
    "name = 'GRUNet'\n",
    "artifacts_path = model_save_fp / Path(name)\n",
    "model = GRUNet(name=name, filepath=artifacts_path)\n",
    "model = model.connect_layers(vocab_size=vocab_size, vect_layer=vect_layer)\n",
    "epochs = 30\n",
    "model.fit(\n",
    "    x=train_dataset, \n",
    "    validation_data=validation_dataset, \n",
    "    epochs=epochs, \n",
    "    callbacks=callbacks(), \n",
    "    steps_per_epoch=3500, \n",
    "    validation_steps=3500\n",
    ")\n",
    "model.save(artifacts_path)\n",
    "_log.info(f\"Saved {model.name} in folder {artifacts_path}\")"
   ]
  },
  {
   "cell_type": "markdown",
   "metadata": {},
   "source": [
    "After training is completed, we can load the model and use it for inference on the test dataset"
   ]
  },
  {
   "cell_type": "code",
   "execution_count": 10,
   "metadata": {},
   "outputs": [
    {
     "name": "stderr",
     "output_type": "stream",
     "text": [
      "2022-12-01 16:21:39.425262: W tensorflow/core/common_runtime/graph_constructor.cc:805] Node 'cond/while' has 13 outputs but the _output_shapes attribute specifies shapes for 46 outputs. Output shapes may be inaccurate.\n",
      "2022-12-01 16:21:39.477185: W tensorflow/core/common_runtime/graph_constructor.cc:805] Node 'cond/while' has 13 outputs but the _output_shapes attribute specifies shapes for 46 outputs. Output shapes may be inaccurate.\n",
      "2022-12-01 16:21:39.483976: W tensorflow/core/common_runtime/graph_constructor.cc:805] Node 'cond' has 4 outputs but the _output_shapes attribute specifies shapes for 46 outputs. Output shapes may be inaccurate.\n",
      "2022-12-01 16:21:39.610277: W tensorflow/core/common_runtime/graph_constructor.cc:805] Node 'cond' has 4 outputs but the _output_shapes attribute specifies shapes for 46 outputs. Output shapes may be inaccurate.\n",
      "2022-12-01 16:21:40.019645: W tensorflow/core/common_runtime/graph_constructor.cc:805] Node 'cond/while' has 13 outputs but the _output_shapes attribute specifies shapes for 46 outputs. Output shapes may be inaccurate.\n",
      "2022-12-01 16:21:40.027132: W tensorflow/core/common_runtime/graph_constructor.cc:805] Node 'cond' has 4 outputs but the _output_shapes attribute specifies shapes for 46 outputs. Output shapes may be inaccurate.\n",
      "2022-12-01 16:21:40.128459: W tensorflow/core/common_runtime/graph_constructor.cc:805] Node 'cond/while' has 13 outputs but the _output_shapes attribute specifies shapes for 46 outputs. Output shapes may be inaccurate.\n",
      "2022-12-01 16:21:40.135224: W tensorflow/core/common_runtime/graph_constructor.cc:805] Node 'cond' has 4 outputs but the _output_shapes attribute specifies shapes for 46 outputs. Output shapes may be inaccurate.\n",
      "2022-12-01 16:21:40.170350: W tensorflow/core/common_runtime/graph_constructor.cc:805] Node 'cond/while' has 13 outputs but the _output_shapes attribute specifies shapes for 46 outputs. Output shapes may be inaccurate.\n",
      "2022-12-01 16:21:40.177135: W tensorflow/core/common_runtime/graph_constructor.cc:805] Node 'cond' has 4 outputs but the _output_shapes attribute specifies shapes for 46 outputs. Output shapes may be inaccurate.\n",
      "2022-12-01 16:21:40.187277: W tensorflow/core/common_runtime/graph_constructor.cc:805] Node 'cond/while' has 13 outputs but the _output_shapes attribute specifies shapes for 46 outputs. Output shapes may be inaccurate.\n",
      "2022-12-01 16:21:40.193667: W tensorflow/core/common_runtime/graph_constructor.cc:805] Node 'cond' has 4 outputs but the _output_shapes attribute specifies shapes for 46 outputs. Output shapes may be inaccurate.\n",
      "2022-12-01 16:21:40.228359: W tensorflow/core/common_runtime/graph_constructor.cc:805] Node 'cond/while' has 13 outputs but the _output_shapes attribute specifies shapes for 46 outputs. Output shapes may be inaccurate.\n",
      "2022-12-01 16:21:40.235642: W tensorflow/core/common_runtime/graph_constructor.cc:805] Node 'cond' has 4 outputs but the _output_shapes attribute specifies shapes for 46 outputs. Output shapes may be inaccurate.\n",
      "2022-12-01 16:21:40.379050: I tensorflow/core/grappler/optimizers/custom_graph_optimizer_registry.cc:114] Plugin optimizer for device_type GPU is enabled.\n",
      "2022-12-01 16:21:40.384589: I tensorflow/core/grappler/optimizers/custom_graph_optimizer_registry.cc:114] Plugin optimizer for device_type GPU is enabled.\n"
     ]
    }
   ],
   "source": [
    "model_paths = {\n",
    "    'CnnGRU' : model_save_fp / Path('CnnGRU'),\n",
    "    'GRUNet': model_save_fp / Path('GRUNet'),\n",
    "}\n",
    "\n",
    "loaded_models = {}\n",
    "for model_name, model_path in model_paths.items():\n",
    "    loaded_models[model_name] = tf.keras.models.load_model(model_path)\n"
   ]
  },
  {
   "cell_type": "markdown",
   "metadata": {},
   "source": [
    "Before we can use it on the test dataset, we need to apply some preprocessing. We can use a batch size of 1 to deal with sequences that have different lengths. This has a negative impact on performance, but it allows us to make predictions for each element in the test data.\n",
    "\n",
    "Alternatively, we could batch sequences together with the bucketing function and pass the bucketed Dataset to predict, which would result in much faster prediction times, but sequences that exceed the higher bound timestep limit would be left out."
   ]
  },
  {
   "cell_type": "code",
   "execution_count": 11,
   "metadata": {},
   "outputs": [],
   "source": [
    "test_dataset = test_dataset.map(lambda x, y: (regex_preprocess(x), y), num_parallel_calls=tf.data.AUTOTUNE)\n",
    "bucket_boundaries = [(0, 20), (20, 30), (30, 40), (40, 60), (60, 90), (90, 120)]\n",
    "test_dataset = bucketing(\n",
    "    dataset=test_dataset, \n",
    "    bucket_boundaries=bucket_boundaries, \n",
    "    batch_size=32, \n",
    "    drop_remainder=True\n",
    ")\n",
    "test_dataset = test_dataset.prefetch(tf.data.AUTOTUNE)"
   ]
  },
  {
   "cell_type": "markdown",
   "metadata": {},
   "source": [
    "Loading different trained models and comparing their performance. We use accuracy as metric."
   ]
  },
  {
   "cell_type": "code",
   "execution_count": 12,
   "metadata": {},
   "outputs": [
    {
     "name": "stderr",
     "output_type": "stream",
     "text": [
      "2022-12-01 16:21:41.237145: I tensorflow/core/grappler/optimizers/custom_graph_optimizer_registry.cc:114] Plugin optimizer for device_type GPU is enabled.\n",
      "2022-12-01 16:21:41.433066: I tensorflow/core/grappler/optimizers/custom_graph_optimizer_registry.cc:114] Plugin optimizer for device_type GPU is enabled.\n"
     ]
    },
    {
     "name": "stdout",
     "output_type": "stream",
     "text": [
      "234/234 [==============================] - 5s 16ms/step - loss: 0.3295 - accuracy: 0.8933\n"
     ]
    }
   ],
   "source": [
    "accuracies = {}\n",
    "for model_name, model in loaded_models.items():\n",
    "    accuracies[model_name] = model.evaluate(test_dataset)\n",
    "print(accuracies)"
   ]
  },
  {
   "cell_type": "code",
   "execution_count": 13,
   "metadata": {},
   "outputs": [
    {
     "name": "stderr",
     "output_type": "stream",
     "text": [
      "2022-12-01 16:21:47.756564: I tensorflow/core/grappler/optimizers/custom_graph_optimizer_registry.cc:114] Plugin optimizer for device_type GPU is enabled.\n",
      "2022-12-01 16:21:47.932782: I tensorflow/core/grappler/optimizers/custom_graph_optimizer_registry.cc:114] Plugin optimizer for device_type GPU is enabled.\n"
     ]
    },
    {
     "name": "stdout",
     "output_type": "stream",
     "text": [
      "234/234 [==============================] - 4s 14ms/step\n"
     ]
    }
   ],
   "source": [
    "pred_dataset = tf.data.Dataset.zip((test_dataset.map(lambda x, y: x, num_parallel_calls=tf.data.AUTOTUNE), ))\n",
    "y_true = np.array(list(test_dataset.map(lambda x, y: y, num_parallel_calls=tf.data.AUTOTUNE).unbatch().as_numpy_iterator()))\n",
    "\n",
    "y_pred = model.predict(pred_dataset)\n",
    "y_pred = np.argmax(y_pred, axis=1)"
   ]
  },
  {
   "cell_type": "markdown",
   "metadata": {},
   "source": [
    "Evaluating the accuracy of the predictions on test data"
   ]
  },
  {
   "cell_type": "code",
   "execution_count": 14,
   "metadata": {},
   "outputs": [
    {
     "name": "stdout",
     "output_type": "stream",
     "text": [
      "              precision    recall  f1-score   support\n",
      "\n",
      "           0       0.90      0.90      0.90      1883\n",
      "           1       0.94      0.96      0.95      1882\n",
      "           2       0.84      0.89      0.86      1873\n",
      "           3       0.89      0.83      0.86      1850\n",
      "\n",
      "    accuracy                           0.89      7488\n",
      "   macro avg       0.89      0.89      0.89      7488\n",
      "weighted avg       0.89      0.89      0.89      7488\n",
      "\n"
     ]
    }
   ],
   "source": [
    "cr = classification_report(y_true, y_pred)\n",
    "print(cr)\n",
    "cm = confusion_matrix(y_true, y_pred)"
   ]
  },
  {
   "cell_type": "code",
   "execution_count": 15,
   "metadata": {},
   "outputs": [
    {
     "data": {
      "text/plain": [
       "[Text(0.5, 23.52222222222222, 'Predicted class'),\n",
       " Text(50.722222222222214, 0.5, 'True class')]"
      ]
     },
     "execution_count": 15,
     "metadata": {},
     "output_type": "execute_result"
    },
    {
     "data": {
      "image/png": "[encoded data removed]",
      "text/plain": [
       "<Figure size 640x480 with 2 Axes>"
      ]
     },
     "metadata": {},
     "output_type": "display_data"
    }
   ],
   "source": [
    "heatmap = sns.heatmap(cm, annot=True, fmt='g', cmap='flare')\n",
    "heatmap.set(xlabel='Predicted class', ylabel='True class')"
   ]
  }
 ],
 "metadata": {
  "kernelspec": {
   "display_name": "Python 3.10.0 ('tensorflow_ml')",
   "language": "python",
   "name": "python3"
  },
  "language_info": {
   "codemirror_mode": {
    "name": "ipython",
    "version": 3
   },
   "file_extension": ".py",
   "mimetype": "text/x-python",
   "name": "python",
   "nbconvert_exporter": "python",
   "pygments_lexer": "ipython3",
   "version": "3.10.0"
  },
  "orig_nbformat": 4,
  "vscode": {
   "interpreter": {
    "hash": "c0ff6795ad112cfc42e627db2a435b16e008a17ca9b9834cb7fa2fdc19fc076e"
   }
  }
 },
 "nbformat": 4,
 "nbformat_minor": 2
}
